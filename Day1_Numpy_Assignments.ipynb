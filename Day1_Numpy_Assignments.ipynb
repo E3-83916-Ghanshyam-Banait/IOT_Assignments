{
 "cells": [
  {
   "cell_type": "markdown",
   "id": "2d0b068d-0e50-45dd-ae61-6a363ee7d712",
   "metadata": {},
   "source": [
    "#1. Write a NumPy program to create an array with the values 1, 7, 13, 105 and determine the size of the memory occupied by the array."
   ]
  },
  {
   "cell_type": "code",
   "execution_count": 2,
   "id": "33d77ae2-f0f0-4a1b-9b0c-ced02f97026d",
   "metadata": {},
   "outputs": [],
   "source": [
    "import numpy as np"
   ]
  },
  {
   "cell_type": "code",
   "execution_count": 7,
   "id": "29bf5610-080c-4c5b-8604-c88999ceadff",
   "metadata": {},
   "outputs": [],
   "source": [
    "def function1():\n",
    "    arr = np.array([1,7,13,105])\n",
    "    print(arr)\n",
    "    print(f\"Size = {arr.size}\")\n",
    "    print(f\"NBYTES = {arr.nbytes}\")"
   ]
  },
  {
   "cell_type": "code",
   "execution_count": 8,
   "id": "ff9273d1-4705-49b6-b3be-366da45aa73a",
   "metadata": {},
   "outputs": [
    {
     "name": "stdout",
     "output_type": "stream",
     "text": [
      "[  1   7  13 105]\n",
      "Size = 4\n",
      "NBYTES = 32\n"
     ]
    }
   ],
   "source": [
    "function1()\n"
   ]
  },
  {
   "cell_type": "markdown",
   "id": "24540fa4-7762-4a8b-bb24-91e973cdc260",
   "metadata": {},
   "source": [
    "#2.Write a NumPy program to create an element-wise comparison (greater,    greater_equal, less and less_equal) of two given arrays.\n"
   ]
  },
  {
   "cell_type": "code",
   "execution_count": 27,
   "id": "a1336d8c-0204-44b0-b790-8ec201952039",
   "metadata": {},
   "outputs": [],
   "source": [
    "def function2(a):\n",
    "    n1 = np.array([10,20,30,44,55])\n",
    "    n2 = np.array([11,22,33,40,55])\n",
    "    if n1[a]>n2[a]:\n",
    "        print(\"n1 is greater\")\n",
    "    elif n1[a]<n2[a]:\n",
    "        print(\"n2 is greater\")\n",
    "    else:\n",
    "        print(\"Both are equal\")\n",
    "        "
   ]
  },
  {
   "cell_type": "code",
   "execution_count": 29,
   "id": "2692977c-785e-4492-ab7b-eccbf5acd4cb",
   "metadata": {},
   "outputs": [
    {
     "name": "stdout",
     "output_type": "stream",
     "text": [
      "n1 is greater\n"
     ]
    }
   ],
   "source": [
    "function2(3)"
   ]
  },
  {
   "cell_type": "markdown",
   "id": "73dc8be3-e877-4a02-a71a-cb077e234b42",
   "metadata": {},
   "source": [
    "#3.Write a NumPy program to create an array of 10 zeros, 10 ones, 10    fives, 10 tens, 10 twentys and 10 fiftys.\n"
   ]
  },
  {
   "cell_type": "code",
   "execution_count": 30,
   "id": "bc302fa4-cfac-415b-ac8a-51682611c269",
   "metadata": {},
   "outputs": [],
   "source": [
    "import numpy as np"
   ]
  },
  {
   "cell_type": "code",
   "execution_count": 32,
   "id": "c204bd0c-9428-40b7-8c14-ab693ff0a31a",
   "metadata": {},
   "outputs": [
    {
     "name": "stdout",
     "output_type": "stream",
     "text": [
      "[0. 0. 0. 0. 0. 0. 0. 0. 0. 0.]\n",
      "[1. 1. 1. 1. 1. 1. 1. 1. 1. 1.]\n",
      "[5. 5. 5. 5. 5. 5. 5. 5. 5. 5.]\n",
      "[10. 10. 10. 10. 10. 10. 10. 10. 10. 10.]\n",
      "[20. 20. 20. 20. 20. 20. 20. 20. 20. 20.]\n",
      "[50. 50. 50. 50. 50. 50. 50. 50. 50. 50.]\n"
     ]
    }
   ],
   "source": [
    "arr1 = np.zeros(10)\n",
    "print(arr1)\n",
    "\n",
    "arr2=np.ones(10)\n",
    "print(arr2)\n",
    "\n",
    "arr3=np.ones(10)*5\n",
    "print(arr3)\n",
    "\n",
    "arr4=np.ones(10)*10\n",
    "print(arr4)\n",
    "\n",
    "arr5=np.ones(10)*20\n",
    "print(arr5)\n",
    "\n",
    "arr6=np.ones(10)*50\n",
    "print(arr6)\n",
    "\n"
   ]
  },
  {
   "cell_type": "markdown",
   "id": "6b973da7-4600-460d-bcef-7f50ffe4b7d2",
   "metadata": {},
   "source": [
    "#4.Write a NumPy program to create an array of integers from 30 to 70."
   ]
  },
  {
   "cell_type": "code",
   "execution_count": 34,
   "id": "4a16a78c-8369-47c3-81e8-2503b557bb14",
   "metadata": {},
   "outputs": [
    {
     "name": "stdout",
     "output_type": "stream",
     "text": [
      "[30 31 32 33 34 35 36 37 38 39 40 41 42 43 44 45 46 47 48 49 50 51 52 53\n",
      " 54 55 56 57 58 59 60 61 62 63 64 65 66 67 68 69 70]\n"
     ]
    }
   ],
   "source": [
    "arr1 = np.arange(30,71)\n",
    "print(arr1)"
   ]
  },
  {
   "cell_type": "markdown",
   "id": "bce19cfe-ba06-47d2-ada7-e6827ce5461b",
   "metadata": {},
   "source": [
    "#5.Write a NumPy program to create an array of integers from 50 to 95."
   ]
  },
  {
   "cell_type": "code",
   "execution_count": 35,
   "id": "476e5e2b-8fec-4004-8fa0-87c56fac492f",
   "metadata": {},
   "outputs": [
    {
     "name": "stdout",
     "output_type": "stream",
     "text": [
      "[50 51 52 53 54 55 56 57 58 59 60 61 62 63 64 65 66 67 68 69 70 71 72 73\n",
      " 74 75 76 77 78 79 80 81 82 83 84 85 86 87 88 89 90 91 92 93 94 95]\n"
     ]
    }
   ],
   "source": [
    "arr1 = np.arange(50,96)\n",
    "print(arr1)"
   ]
  },
  {
   "cell_type": "markdown",
   "id": "8fe4a9ee-b5ad-4a6c-8486-45e4b3314aeb",
   "metadata": {},
   "source": [
    "#6. Write a NumPy program to create an array of all even integers from 20 to 80."
   ]
  },
  {
   "cell_type": "code",
   "execution_count": 36,
   "id": "2acfb31d-12f6-441e-a01a-feff90c807a6",
   "metadata": {},
   "outputs": [
    {
     "name": "stdout",
     "output_type": "stream",
     "text": [
      "[20 22 24 26 28 30 32 34 36 38 40 42 44 46 48 50 52 54 56 58 60 62 64 66\n",
      " 68 70 72 74 76 78]\n"
     ]
    }
   ],
   "source": [
    "arr1 = np.arange(20,80,2)\n",
    "print(arr1)"
   ]
  },
  {
   "cell_type": "markdown",
   "id": "a47679e4-a83f-4e79-80b7-14723ecd935e",
   "metadata": {},
   "source": [
    "#7. Write a NumPy program to create an array of all odd integers from 20 to 80."
   ]
  },
  {
   "cell_type": "code",
   "execution_count": 42,
   "id": "0e12c599-f455-42d3-b6f1-ffe04f661956",
   "metadata": {},
   "outputs": [
    {
     "name": "stdout",
     "output_type": "stream",
     "text": [
      "[21 23 25 27 29 31 33 35 37 39 41 43 45 47 49 51 53 55 57 59 61 63 65 67\n",
      " 69 71 73 75 77 79]\n"
     ]
    }
   ],
   "source": [
    "arr1 = np.arange(21,80,2)\n",
    "print(arr1)"
   ]
  },
  {
   "cell_type": "markdown",
   "id": "19e59f3e-ac99-4eb9-b210-bf49fe3b11a1",
   "metadata": {},
   "source": [
    "#8. Write a NumPy program to generate an array of 15 random numbers from 10 to 40."
   ]
  },
  {
   "cell_type": "code",
   "execution_count": 44,
   "id": "8644703f-8e88-4685-81b8-dea053ba8416",
   "metadata": {},
   "outputs": [
    {
     "name": "stdout",
     "output_type": "stream",
     "text": [
      "[14 15 29 16 13 37 15 26 18 29 32 17 20 36 33]\n"
     ]
    }
   ],
   "source": [
    "n4 = np.random.randint(10,40,15)\n",
    "print(n4)"
   ]
  },
  {
   "cell_type": "markdown",
   "id": "87ce7165-a0a9-4a42-9f5c-c3323406cf44",
   "metadata": {},
   "source": [
    "#9. Write a NumPy program to generate an array of 10 random numbers from 30    to 50."
   ]
  },
  {
   "cell_type": "code",
   "execution_count": 45,
   "id": "fd9ad6c8-0db8-4a75-bafa-8611435f4d30",
   "metadata": {},
   "outputs": [
    {
     "name": "stdout",
     "output_type": "stream",
     "text": [
      "[31 33 37 46 49 49 42 41 36 46]\n"
     ]
    }
   ],
   "source": [
    "n4 = np.random.randint(30,50,10)\n",
    "print(n4)"
   ]
  },
  {
   "cell_type": "markdown",
   "id": "a7a0f683-f43f-4450-9e2d-f8014e0835f9",
   "metadata": {},
   "source": [
    "#10.Write a NumPy program to generate an array of 20 random numbers from 50    to 90."
   ]
  },
  {
   "cell_type": "code",
   "execution_count": 46,
   "id": "b8b0e257-04eb-4fe7-b37b-e93be3d05eaa",
   "metadata": {},
   "outputs": [
    {
     "name": "stdout",
     "output_type": "stream",
     "text": [
      "[85 83 67 78 71 84 82 82 51 84 53 53 66 58 58 85 57 66 68 78]\n"
     ]
    }
   ],
   "source": [
    "n4 = np.random.randint(50,90,20)\n",
    "print(n4)"
   ]
  },
  {
   "cell_type": "markdown",
   "id": "d2ac01ba-51d3-443a-ac72-072f07fb9f89",
   "metadata": {},
   "source": [
    "#11.Create any two arrays & perform various mathematical operations.\n",
    "    i.e. Addition, Substraction, Multiplication, Divide."
   ]
  },
  {
   "cell_type": "code",
   "execution_count": 48,
   "id": "eda1505d-ddd1-495e-a143-8911dad1b365",
   "metadata": {},
   "outputs": [
    {
     "name": "stdout",
     "output_type": "stream",
     "text": [
      "N1 = [11 20 33 44]\n",
      "N2 = [10 20 30 40]\n",
      "[21 40 63 84]\n",
      "[1 0 3 4]\n",
      "[ 110  400  990 1760]\n",
      "[1.1 1.  1.1 1.1]\n"
     ]
    }
   ],
   "source": [
    "n1 = np.array([11,20,33,44])\n",
    "n2 = np.array([10,20,30,40])\n",
    "print(f\"N1 = {n1}\")\n",
    "print(f\"N2 = {n2}\")\n",
    "print(n1+n2)\n",
    "print(n1-n2)\n",
    "print(n1*n2)\n",
    "print(n1/n2)\n"
   ]
  },
  {
   "cell_type": "markdown",
   "id": "d72b9f9b-79ce-45cf-be08-6b5f4664ebbe",
   "metadata": {},
   "source": [
    "#12. Write a NumPy program to create a 3x4 matrix filled with values from 10     to 21."
   ]
  },
  {
   "cell_type": "code",
   "execution_count": 54,
   "id": "bad18c25-6848-484c-a53b-884b3ad9f77d",
   "metadata": {},
   "outputs": [
    {
     "name": "stdout",
     "output_type": "stream",
     "text": [
      "[[10 11 12 13]\n",
      " [14 15 16 17]\n",
      " [18 19 20 21]]\n"
     ]
    }
   ],
   "source": [
    "arr1 = np.arange(10,22)\n",
    "arr1 = arr1.reshape([3,4])\n",
    "print(arr1)\n"
   ]
  },
  {
   "cell_type": "markdown",
   "id": "dcfbbb6c-b18c-4004-bd76-347e4e7f093a",
   "metadata": {},
   "source": [
    "#13. Write a NumPy program to create a 3x3 identity matrix, i.e. the diagonal     elements are 1, the rest are 0.\n"
   ]
  },
  {
   "cell_type": "code",
   "execution_count": 55,
   "id": "3464642d-49e7-4fb2-80fd-668b7e9efcac",
   "metadata": {},
   "outputs": [
    {
     "name": "stdout",
     "output_type": "stream",
     "text": [
      "[[1. 0. 0.]\n",
      " [0. 1. 0.]\n",
      " [0. 0. 1.]]\n"
     ]
    }
   ],
   "source": [
    "arr1 = np.eye(3)\n",
    "print(arr1)"
   ]
  },
  {
   "cell_type": "markdown",
   "id": "fe6ff241-2822-4f6f-af08-9e1b9b6363ea",
   "metadata": {},
   "source": [
    " #14.Write a NumPy program to find the number of rows and columns in a given     matrix. \n"
   ]
  },
  {
   "cell_type": "code",
   "execution_count": 3,
   "id": "b80be0bd-9564-468a-9d7c-8ef4e444dbd5",
   "metadata": {},
   "outputs": [
    {
     "name": "stdout",
     "output_type": "stream",
     "text": [
      "[[10 11 12 13]\n",
      " [14 15 16 17]\n",
      " [18 19 20 21]]\n",
      "Rows and Columns are\n",
      "(3, 4)\n"
     ]
    }
   ],
   "source": [
    "import numpy as np\n",
    "arr1 = np.arange(10,22)\n",
    "arr1 = arr1.reshape([3,4])\n",
    "print(arr1)\n",
    "print(\"Rows and Columns are\")\n",
    "print(arr1.shape) "
   ]
  },
  {
   "cell_type": "markdown",
   "id": "9c733b57-1e5f-4dc9-9d7f-25bc607a40b8",
   "metadata": {},
   "source": [
    "#Write a NumPy program to create a 5x5 zero matrix with elements on the     main diagonal equal to 1, 2, 3, 4, 5."
   ]
  },
  {
   "cell_type": "code",
   "execution_count": 4,
   "id": "46d5e5d3-8d6a-4005-9918-0578394bc233",
   "metadata": {},
   "outputs": [
    {
     "name": "stdout",
     "output_type": "stream",
     "text": [
      "[[1 0 0 0 0]\n",
      " [0 2 0 0 0]\n",
      " [0 0 3 0 0]\n",
      " [0 0 0 4 0]\n",
      " [0 0 0 0 5]]\n"
     ]
    }
   ],
   "source": [
    "x = np.diag([1, 2, 3, 4, 5])\n",
    "print(x) \n"
   ]
  },
  {
   "cell_type": "markdown",
   "id": "a0b3e5ae-bff7-48d4-bf92-bf3105e9c7c6",
   "metadata": {},
   "source": [
    "#16. Write a NumPy program to create a 3x3x3 array filled with arbitrary     values.\n"
   ]
  },
  {
   "cell_type": "code",
   "execution_count": 5,
   "id": "4b4c99e8-541d-471a-a805-b2f2ac4423c6",
   "metadata": {},
   "outputs": [
    {
     "name": "stdout",
     "output_type": "stream",
     "text": [
      "[[[0.85641329 0.39773291 0.38470259]\n",
      "  [0.57778974 0.7690482  0.36186039]\n",
      "  [0.47091735 0.40029834 0.9318606 ]]\n",
      "\n",
      " [[0.44050811 0.38351133 0.41510669]\n",
      "  [0.26204643 0.37552939 0.38895085]\n",
      "  [0.94958681 0.28838808 0.630228  ]]\n",
      "\n",
      " [[0.8519643  0.76886849 0.13302231]\n",
      "  [0.99474022 0.04470626 0.57526829]\n",
      "  [0.19381886 0.78444567 0.05353429]]]\n"
     ]
    }
   ],
   "source": [
    "x = np.random.random((3, 3, 3))\n",
    "print(x)"
   ]
  },
  {
   "cell_type": "markdown",
   "id": "faa73987-b192-4b29-a101-d56eefb2fea3",
   "metadata": {},
   "source": [
    "#17. Write a NumPy program to create a 2x3x4 array filled with arbitrary     values.\n"
   ]
  },
  {
   "cell_type": "code",
   "execution_count": 6,
   "id": "4d98a068-178f-4ba7-8898-20f17013dd70",
   "metadata": {},
   "outputs": [
    {
     "name": "stdout",
     "output_type": "stream",
     "text": [
      "[[[0.7489508  0.06683889 0.63335711 0.85528731]\n",
      "  [0.91714214 0.30250626 0.20475011 0.95139766]\n",
      "  [0.39262729 0.99613333 0.4861771  0.0132481 ]]\n",
      "\n",
      " [[0.63936125 0.58005746 0.95517574 0.97127458]\n",
      "  [0.11118598 0.26684658 0.68185626 0.09137923]\n",
      "  [0.3299199  0.64037122 0.97792105 0.45971118]]]\n"
     ]
    }
   ],
   "source": [
    "x = np.random.random((2, 3, 4))\n",
    "print(x)"
   ]
  },
  {
   "cell_type": "markdown",
   "id": "eeb95c8c-782a-4720-8ab3-9e208dff805d",
   "metadata": {},
   "source": [
    "#18. Write a NumPy program to convert a list of numeric values into a one-    dimensional NumPy array.\n"
   ]
  },
  {
   "cell_type": "code",
   "execution_count": 11,
   "id": "1d04f78c-95ce-4e27-8fb5-1989f947891e",
   "metadata": {},
   "outputs": [
    {
     "name": "stdout",
     "output_type": "stream",
     "text": [
      "Original List: [12.23, 13.32, 100, 36.32]\n",
      "One-dimensional NumPy array:  [ 12.23  13.32 100.    36.32]\n"
     ]
    }
   ],
   "source": [
    "l = [12.23, 13.32, 100,36.32]\n",
    "print(\"Original List:\",l)\n",
    "a = np.array(l)\n",
    "print(\"One-dimensional NumPy array: \",a)\n"
   ]
  },
  {
   "cell_type": "markdown",
   "id": "48c23519-026e-4fb1-ae79-d475b70ed867",
   "metadata": {},
   "source": [
    "#19. Write a NumPy program to create a 3x3 matrix with values ranging from 2     to 10.\n"
   ]
  },
  {
   "cell_type": "code",
   "execution_count": 12,
   "id": "a533e5bd-0037-432f-b8ac-c008a18b6a19",
   "metadata": {},
   "outputs": [
    {
     "name": "stdout",
     "output_type": "stream",
     "text": [
      "[[ 2  3  4]\n",
      " [ 5  6  7]\n",
      " [ 8  9 10]]\n"
     ]
    }
   ],
   "source": [
    "x = np.arange(2, 11).reshape(3, 3)\n",
    "print(x)"
   ]
  },
  {
   "cell_type": "markdown",
   "id": "382d40dd-7665-4016-a133-673f2a7222e6",
   "metadata": {},
   "source": [
    "#20. Write a NumPy program to create an array with values ranging from 12 to 38.\n"
   ]
  },
  {
   "cell_type": "code",
   "execution_count": 13,
   "id": "1f954981-faab-4d60-b6d7-9356b6bef408",
   "metadata": {},
   "outputs": [
    {
     "name": "stdout",
     "output_type": "stream",
     "text": [
      "[12 13 14 15 16 17 18 19 20 21 22 23 24 25 26 27 28 29 30 31 32 33 34 35\n",
      " 36 37 38]\n"
     ]
    }
   ],
   "source": [
    "x = np.arange(12, 39)\n",
    "print(x)"
   ]
  },
  {
   "cell_type": "markdown",
   "id": "1c795405-16c8-46bd-a8e5-dc7e95e805e1",
   "metadata": {},
   "source": [
    "#21. Write a NumPy program to reverse an array (the first element becomes the last).\n"
   ]
  },
  {
   "cell_type": "code",
   "execution_count": 14,
   "id": "601efdba-c8c2-4667-9736-cec92aa7e055",
   "metadata": {},
   "outputs": [
    {
     "name": "stdout",
     "output_type": "stream",
     "text": [
      "Original array:\n",
      "[ 1  2  3  4  5  6  7  8  9 10 11 12 13 14 15 16 17 18 19]\n",
      "Reverse array:\n",
      "[19 18 17 16 15 14 13 12 11 10  9  8  7  6  5  4  3  2  1]\n"
     ]
    }
   ],
   "source": [
    "x = np.arange(1, 20)\n",
    "\n",
    "print(\"Original array:\")\n",
    "print(x)\n",
    "\n",
    "print(\"Reverse array:\")\n",
    "x = x[::-1]\n",
    "print(x) "
   ]
  },
  {
   "cell_type": "markdown",
   "id": "32fd5fd4-c65c-4f6c-845e-6e8a67764b82",
   "metadata": {},
   "source": [
    "#22. Write a NumPy program to convert an data type into to a floating type.\n"
   ]
  },
  {
   "cell_type": "code",
   "execution_count": 15,
   "id": "99ef6a63-8430-4303-9b33-802a8bbbd30a",
   "metadata": {},
   "outputs": [
    {
     "name": "stdout",
     "output_type": "stream",
     "text": [
      "Original array\n",
      "[1, 2, 3, 4]\n",
      "Array converted to a float type:\n",
      "[1. 2. 3. 4.]\n"
     ]
    }
   ],
   "source": [
    "a = [1, 2, 3, 4]\n",
    "print(\"Original array\")\n",
    "print(a)\n",
    "\n",
    "# Converting the array 'a' to a NumPy array of type float using asfarray()\n",
    "x = np.asfarray(a)\n",
    "print(\"Array converted to a float type:\")\n",
    "print(x) "
   ]
  },
  {
   "cell_type": "markdown",
   "id": "366ac349-2542-4254-a63f-27a558d65b59",
   "metadata": {},
   "source": [
    "#23. Write a NumPy program to convert a list array.\n"
   ]
  },
  {
   "cell_type": "code",
   "execution_count": 17,
   "id": "4f1e533d-7fd4-490c-8939-e0090f72b858",
   "metadata": {},
   "outputs": [
    {
     "name": "stdout",
     "output_type": "stream",
     "text": [
      "List:  [1, 7, 0, 6, 2, 5, 6]\n",
      "Array:  [1 7 0 6 2 5 6]\n"
     ]
    }
   ],
   "source": [
    "lst = [1, 7, 0, 6, 2, 5, 6]\n",
    " \n",
    "# converting list to array\n",
    "arr = np.array(lst)\n",
    " \n",
    "# displaying list\n",
    "print (\"List: \", lst)\n",
    " \n",
    "# displaying array\n",
    "print (\"Array: \", arr)"
   ]
  },
  {
   "cell_type": "markdown",
   "id": "0e58c384-dfb6-4a4c-9762-e705601fc7bc",
   "metadata": {},
   "source": [
    "#24. Write a NumPy program to get the element-wise remainder of an array of division.\n"
   ]
  },
  {
   "cell_type": "code",
   "execution_count": 18,
   "id": "fad58cb0-e4da-46b6-ba86-ef3b2318d71f",
   "metadata": {},
   "outputs": [
    {
     "name": "stdout",
     "output_type": "stream",
     "text": [
      "Original array:\n",
      "[0 1 2 3 4 5 6]\n",
      "Element-wise remainder of division:\n",
      "[0 1 0 1 0 1 0]\n"
     ]
    }
   ],
   "source": [
    "x = np.arange(7)\n",
    "\n",
    "# Displaying the original array\n",
    "print(\"Original array:\")\n",
    "print(x)\n",
    "\n",
    "# Computing the element-wise remainder of division by 5 and displaying the result\n",
    "print(\"Element-wise remainder of division:\")\n",
    "print(np.remainder(x, 2)) "
   ]
  },
  {
   "cell_type": "markdown",
   "id": "b775dbe1-6dc6-4cb7-9412-763ecdf90e36",
   "metadata": {},
   "source": [
    "#25. Write a NumPy program to get the element-wise remainder of an array of numbers from 20 to 50 which are divisible by 3.\n"
   ]
  },
  {
   "cell_type": "code",
   "execution_count": 19,
   "id": "6dbb922b-8b3e-4505-a1c2-b26f1b6bfb7a",
   "metadata": {},
   "outputs": [
    {
     "name": "stdout",
     "output_type": "stream",
     "text": [
      "Original array:\n",
      "[20 21 22 23 24 25 26 27 28 29 30 31 32 33 34 35 36 37 38 39 40 41 42 43\n",
      " 44 45 46 47 48 49 50]\n",
      "Element-wise remainder of division:\n",
      "[2 0 1 2 0 1 2 0 1 2 0 1 2 0 1 2 0 1 2 0 1 2 0 1 2 0 1 2 0 1 2]\n"
     ]
    }
   ],
   "source": [
    "x = np.arange(20,51)\n",
    "\n",
    "# Displaying the original array\n",
    "print(\"Original array:\")\n",
    "print(x)\n",
    "\n",
    "# Computing the element-wise remainder of division by 5 and displaying the result\n",
    "print(\"Element-wise remainder of division:\")\n",
    "print(np.remainder(x, 3)) "
   ]
  },
  {
   "cell_type": "code",
   "execution_count": null,
   "id": "5ca759cc-bd32-4451-973c-a23ee8849a4d",
   "metadata": {},
   "outputs": [],
   "source": []
  }
 ],
 "metadata": {
  "kernelspec": {
   "display_name": "Python 3 (ipykernel)",
   "language": "python",
   "name": "python3"
  },
  "language_info": {
   "codemirror_mode": {
    "name": "ipython",
    "version": 3
   },
   "file_extension": ".py",
   "mimetype": "text/x-python",
   "name": "python",
   "nbconvert_exporter": "python",
   "pygments_lexer": "ipython3",
   "version": "3.10.12"
  }
 },
 "nbformat": 4,
 "nbformat_minor": 5
}
